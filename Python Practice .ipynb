{
 "cells": [
  {
   "cell_type": "markdown",
   "metadata": {},
   "source": [
    "### Q1. Write a program to calculate the area of a rectangle with given length and width.\n",
    "    area = length * width"
   ]
  },
  {
   "cell_type": "code",
   "execution_count": 2,
   "metadata": {},
   "outputs": [
    {
     "name": "stdout",
     "output_type": "stream",
     "text": [
      "area of rectangle is 20\n"
     ]
    }
   ],
   "source": [
    "length=int(input('enter length to rectangle'))\n",
    "width=int(input('enter width to rectangle'))\n",
    "print(f'area of rectangle is {length*width}')\n"
   ]
  },
  {
   "cell_type": "markdown",
   "metadata": {},
   "source": [
    "### Q2. Write a program that takes an integer input from the user and prints whether it's even or odd.\n",
    "    Even Numbers: 0, 2, 4, 6, 8, ...\n",
    "    OOD Numbers: 1, 3, 5, 7, 9, ..."
   ]
  },
  {
   "cell_type": "code",
   "execution_count": 3,
   "metadata": {},
   "outputs": [
    {
     "name": "stdout",
     "output_type": "stream",
     "text": [
      "number 19 is Odd\n"
     ]
    }
   ],
   "source": [
    "number = int(input('enter your number'))\n",
    "if number %2!=0 :\n",
    "    print(f'number {number} is Odd')\n",
    "else:\n",
    "    print(f'number {number} is even')"
   ]
  },
  {
   "cell_type": "markdown",
   "metadata": {},
   "source": [
    "### Q3. Write a program that takes a three-digit number as input and calculates the sum of its digits."
   ]
  },
  {
   "cell_type": "code",
   "execution_count": 4,
   "metadata": {},
   "outputs": [
    {
     "name": "stdout",
     "output_type": "stream",
     "text": [
      "46\n"
     ]
    }
   ],
   "source": [
    "numberName=['first','second','third']\n",
    "\n",
    "sumOfNumber =0\n",
    "\n",
    "for n in numberName:\n",
    "    num=int(input(f'enter {n} number :'))\n",
    "    sumOfNumber+=num\n",
    "\n",
    "print(sumOfNumber)"
   ]
  },
  {
   "cell_type": "markdown",
   "metadata": {},
   "source": [
    "### Q4. Create two strings and concatenate them to form a third string."
   ]
  },
  {
   "cell_type": "code",
   "execution_count": 5,
   "metadata": {},
   "outputs": [
    {
     "name": "stdout",
     "output_type": "stream",
     "text": [
      "welcome mohamed\n",
      "welcome mohamed\n",
      "welcome mohamed\n"
     ]
    }
   ],
   "source": [
    "# two string\n",
    "string1='welcome'\n",
    "string2='mohamed'\n",
    "#result\n",
    "result1=f'{string1} {string2}'\n",
    "result2= string1 + ' ' + string2\n",
    "result3='{} {}'.format(string1, string2)\n",
    "\n",
    "print (result1)\n",
    "print (result2)\n",
    "print (result3)"
   ]
  },
  {
   "cell_type": "markdown",
   "metadata": {},
   "source": [
    "### Q5. Write a program that compares two numbers and prints whether the first number is greater, smaller, or equal to the second number."
   ]
  },
  {
   "cell_type": "code",
   "execution_count": 6,
   "metadata": {},
   "outputs": [
    {
     "name": "stdout",
     "output_type": "stream",
     "text": [
      "first number is greater than seconde number\n"
     ]
    }
   ],
   "source": [
    "firstNumber=15\n",
    "secondNumber =10\n",
    "#result number one\n",
    "if firstNumber>secondNumber:\n",
    "    print('first number is greater than seconde number')\n",
    "elif firstNumber<secondNumber:\n",
    "    print('first number is smaller than second number')\n",
    "else:\n",
    "    print('first number is equal to seconde number')\n"
   ]
  },
  {
   "cell_type": "markdown",
   "metadata": {},
   "source": [
    "### Q6. Write a program that takes a string as input and prints it in reverse order.\n",
    "    ahmed => demha"
   ]
  },
  {
   "cell_type": "code",
   "execution_count": 7,
   "metadata": {},
   "outputs": [
    {
     "name": "stdout",
     "output_type": "stream",
     "text": [
      "demahom\n"
     ]
    }
   ],
   "source": [
    "string3=input('enter your string : ')\n",
    "#first way\n",
    "print(string3[::-1])\n"
   ]
  },
  {
   "cell_type": "code",
   "execution_count": 8,
   "metadata": {},
   "outputs": [
    {
     "name": "stdout",
     "output_type": "stream",
     "text": [
      "d\n",
      "e\n",
      "m\n",
      "a\n",
      "h\n",
      "o\n",
      "m\n"
     ]
    }
   ],
   "source": [
    "#second way\n",
    "for n in range(len(string3)):\n",
    "    print(string3[len(string3)-n-1])"
   ]
  },
  {
   "cell_type": "code",
   "execution_count": 9,
   "metadata": {},
   "outputs": [
    {
     "name": "stdout",
     "output_type": "stream",
     "text": [
      "demahom\n"
     ]
    }
   ],
   "source": [
    "#third way\n",
    "reversedString=''\n",
    "for n in string3:\n",
    "    reversedString=n+reversedString\n",
    "print(reversedString)"
   ]
  },
  {
   "cell_type": "code",
   "execution_count": 10,
   "metadata": {},
   "outputs": [
    {
     "name": "stdout",
     "output_type": "stream",
     "text": [
      "demahom\n"
     ]
    }
   ],
   "source": [
    "#another way\n",
    "reversedString=''.join(reversed(string3))\n",
    "print(reversedString)"
   ]
  },
  {
   "cell_type": "markdown",
   "metadata": {},
   "source": [
    "### Q7. Write a program that takes a number as input and prints \"Positive\" if it's greater than 0, \"Negative\" if it's less than 0, and \"Zero\" if it's equal to 0."
   ]
  },
  {
   "cell_type": "code",
   "execution_count": 11,
   "metadata": {},
   "outputs": [
    {
     "name": "stdout",
     "output_type": "stream",
     "text": [
      "Positive\n"
     ]
    }
   ],
   "source": [
    "number=int(input('enter your number'))\n",
    "#first way\n",
    "if number>0:\n",
    "    print('Positive')\n",
    "elif number <0:\n",
    "    print('Negative')\n",
    "else:\n",
    "    print('Zero')"
   ]
  },
  {
   "cell_type": "code",
   "execution_count": 12,
   "metadata": {},
   "outputs": [
    {
     "name": "stdout",
     "output_type": "stream",
     "text": [
      "Positive\n"
     ]
    }
   ],
   "source": [
    "#second way\n",
    "if number !=0:\n",
    "    print('Positive'if number>0 else 'Negative')\n",
    "else:\n",
    "    print('Zero')"
   ]
  },
  {
   "cell_type": "code",
   "execution_count": 13,
   "metadata": {},
   "outputs": [
    {
     "name": "stdout",
     "output_type": "stream",
     "text": [
      "Positive\n"
     ]
    }
   ],
   "source": [
    "#third way\n",
    "status = [\"Zero\", \"Positive\",\"Negative\"]\n",
    "print( status[(number>0) - (number<0)] )"
   ]
  },
  {
   "cell_type": "code",
   "execution_count": 14,
   "metadata": {},
   "outputs": [
    {
     "name": "stdout",
     "output_type": "stream",
     "text": [
      "Positive\n"
     ]
    }
   ],
   "source": [
    "#another way\n",
    "print('Positive'if number>0 else 'Negative'if number<0 else 'Zero')"
   ]
  },
  {
   "cell_type": "markdown",
   "metadata": {},
   "source": [
    "### Q8. Write a program that converts Fahrenheit to Celsius. Take Fahrenheit as input from the user.\n",
    "    Temperature in degrees Celsius (°C) = (Temperature in degrees Fahrenheit (°F) - 32) * 5/9"
   ]
  },
  {
   "cell_type": "code",
   "execution_count": 15,
   "metadata": {},
   "outputs": [
    {
     "name": "stdout",
     "output_type": "stream",
     "text": [
      "37.77777777777778\n"
     ]
    }
   ],
   "source": [
    "temperature = int(input('enter Temperature in fahrenheit degree'))\n",
    "print((temperature-32)*(5/9))"
   ]
  },
  {
   "cell_type": "markdown",
   "metadata": {},
   "source": [
    "### Q9. Write a program that takes a string as input and counts the number of characters in it.\n",
    "    ahmed => 5"
   ]
  },
  {
   "cell_type": "code",
   "execution_count": 16,
   "metadata": {},
   "outputs": [
    {
     "name": "stdout",
     "output_type": "stream",
     "text": [
      "3\n"
     ]
    }
   ],
   "source": [
    "string4=input('enter your string')\n",
    "#first way\n",
    "print(len(string4))"
   ]
  },
  {
   "cell_type": "code",
   "execution_count": 17,
   "metadata": {},
   "outputs": [
    {
     "name": "stdout",
     "output_type": "stream",
     "text": [
      "3\n"
     ]
    }
   ],
   "source": [
    "#second way\n",
    "count=0\n",
    "for n in string4:\n",
    "    count+=1\n",
    "print(count)"
   ]
  },
  {
   "cell_type": "markdown",
   "metadata": {},
   "source": [
    "### Q10. Write a program that takes three numbers as input and prints the maximum of those numbers."
   ]
  },
  {
   "cell_type": "code",
   "execution_count": 18,
   "metadata": {},
   "outputs": [
    {
     "name": "stdout",
     "output_type": "stream",
     "text": [
      "the maximum of those number1 is 15\n"
     ]
    }
   ],
   "source": [
    "number1 = int(input('enter first number'))\n",
    "number2 = int(input('enter second number'))\n",
    "number3 = int(input('enter third number'))\n",
    "#first way\n",
    "print(f'the maximum of those number is {max(number1,number2,number3)}')\n",
    "\n"
   ]
  },
  {
   "cell_type": "code",
   "execution_count": 19,
   "metadata": {},
   "outputs": [
    {
     "name": "stdout",
     "output_type": "stream",
     "text": [
      "the maximum of those number is 15\n"
     ]
    }
   ],
   "source": [
    "#second way\n",
    "listNumber=[number1,number2,number3]\n",
    "print(f'the maximum of those number is {max(listNumber)}')"
   ]
  },
  {
   "cell_type": "code",
   "execution_count": 20,
   "metadata": {},
   "outputs": [
    {
     "name": "stdout",
     "output_type": "stream",
     "text": [
      "the maximum of those number1 is 15\n"
     ]
    }
   ],
   "source": [
    "#third way\n",
    "if number1>=number2 and number1 >=number3:\n",
    "    print(f'the maximum of those number1 is {number1}')\n",
    "elif number2>=number1 and number2>=number3:\n",
    "    print(f'the maximum of those number2 is {number2}')\n",
    "else:\n",
    "    print(f'the maximum of those number3 is {number3}')\n"
   ]
  },
  {
   "cell_type": "code",
   "execution_count": 46,
   "metadata": {},
   "outputs": [
    {
     "name": "stdout",
     "output_type": "stream",
     "text": [
      "the maximum of those number is 10\n"
     ]
    }
   ],
   "source": [
    "#fourth way\n",
    "maximum=number1 if (number1>=number2 and number1>=number3)else number2 if (number2>=number3)else number3\n",
    "print(f'the maximum of those number is {maximum}')"
   ]
  },
  {
   "cell_type": "markdown",
   "metadata": {},
   "source": [
    "### Q11. Create two lists and concatenate them to form a third list."
   ]
  },
  {
   "cell_type": "code",
   "execution_count": 22,
   "metadata": {},
   "outputs": [
    {
     "name": "stdout",
     "output_type": "stream",
     "text": [
      "['mohamed', 'ali', 'hany', 'mohsen', 'ahmed', 'abrahim', 'mostafa']\n"
     ]
    }
   ],
   "source": [
    "list1=['mohamed','ali','hany','mohsen']\n",
    "list2=['ahmed','abrahim','mostafa']\n",
    "#first way\n",
    "list3=list1+list2\n",
    "print(list3)"
   ]
  },
  {
   "cell_type": "code",
   "execution_count": 23,
   "metadata": {},
   "outputs": [
    {
     "name": "stdout",
     "output_type": "stream",
     "text": [
      "['mohamed', 'ali', 'hany', 'mohsen', 'ahmed', 'abrahim', 'mostafa']\n"
     ]
    }
   ],
   "source": [
    "# second way using append\n",
    "list3=list1.copy()\n",
    "for n in list2:\n",
    "    list3.append(n)\n",
    "print(list3)"
   ]
  },
  {
   "cell_type": "code",
   "execution_count": 24,
   "metadata": {},
   "outputs": [
    {
     "name": "stdout",
     "output_type": "stream",
     "text": [
      "['mohamed', 'ali', 'hany', 'mohsen', 'ahmed', 'abrahim', 'mostafa']\n"
     ]
    }
   ],
   "source": [
    "\n",
    "#third way using extend\n",
    "list3=list1.copy()\n",
    "list3.extend(list2)\n",
    "print(list3)"
   ]
  },
  {
   "cell_type": "code",
   "execution_count": 25,
   "metadata": {},
   "outputs": [
    {
     "name": "stdout",
     "output_type": "stream",
     "text": [
      "['mohamed', 'ali', 'hany', 'mohsen', 'ahmed', 'abrahim', 'mostafa']\n"
     ]
    }
   ],
   "source": [
    "\n",
    "#fourth way using insert\n",
    "list3=list1.copy()\n",
    "for n in list2:\n",
    "    list3.insert(len(list3),n)\n",
    "print(list3)"
   ]
  },
  {
   "cell_type": "code",
   "execution_count": 26,
   "metadata": {},
   "outputs": [
    {
     "name": "stdout",
     "output_type": "stream",
     "text": [
      "['mohamed', 'ali', 'hany', 'mohsen', 'ahmed', 'abrahim', 'mostafa']\n"
     ]
    }
   ],
   "source": [
    "#another way using operator\n",
    "list3=[*list1,*list2]\n",
    "print(list3)"
   ]
  },
  {
   "cell_type": "markdown",
   "metadata": {},
   "source": [
    "### Q12. Write a program that takes a string as input and checks whether it's a palindrome.\n",
    "    radar, level, madam, ..."
   ]
  },
  {
   "cell_type": "code",
   "execution_count": 27,
   "metadata": {},
   "outputs": [
    {
     "name": "stdout",
     "output_type": "stream",
     "text": [
      "ahmed this string not palindrome\n"
     ]
    }
   ],
   "source": [
    "palindrome=input('enter your string')\n",
    "reversPalinderome=''.join(reversed(palindrome))\n",
    "if palindrome==reversPalinderome:\n",
    "    print(f'{palindrome} this string is palindrome')\n",
    "else:\n",
    "    print(f'{palindrome} this string not palindrome')"
   ]
  },
  {
   "cell_type": "markdown",
   "metadata": {},
   "source": [
    "### Q13. Write a program that takes three numbers as input and prints their average."
   ]
  },
  {
   "cell_type": "code",
   "execution_count": 34,
   "metadata": {},
   "outputs": [
    {
     "name": "stdout",
     "output_type": "stream",
     "text": [
      "3.0\n"
     ]
    }
   ],
   "source": [
    "listOfNumber =[int(input('enter first number')),int(input('enter second number')),int(input('enter third number'))]\n",
    " \n",
    "avarage = sum(listOfNumber)/len(listOfNumber)\n",
    "\n",
    "print(avarage) "
   ]
  },
  {
   "cell_type": "markdown",
   "metadata": {},
   "source": [
    "### Q14. Write a program that takes two numbers as input and checks whether the first number is divisible by the second number."
   ]
  },
  {
   "cell_type": "code",
   "execution_count": 35,
   "metadata": {},
   "outputs": [
    {
     "name": "stdout",
     "output_type": "stream",
     "text": [
      "10 is divisible by 2.\n"
     ]
    }
   ],
   "source": [
    "num1=int(input('enter first number'))\n",
    "num2=int(input('enter second number'))\n",
    "\n",
    "if num2==0:\n",
    "    print(\"Division by zero is not allowed.\")\n",
    "else:\n",
    "    if num1 % num2 == 0:\n",
    "        print(f\"{num1} is divisible by {num2}.\")\n",
    "    else:\n",
    "        print(f\"{num1} is not divisible by {num2}.\")\n"
   ]
  },
  {
   "cell_type": "markdown",
   "metadata": {},
   "source": [
    "### Q15. Write a program that takes two numbers and an operator (+, -, *, /) as input and performs the corresponding operation."
   ]
  },
  {
   "cell_type": "code",
   "execution_count": 36,
   "metadata": {},
   "outputs": [
    {
     "name": "stdout",
     "output_type": "stream",
     "text": [
      "20\n"
     ]
    }
   ],
   "source": [
    "num1=int(input('enter first number'))\n",
    "num2=int(input('enter second number'))\n",
    "oper=input('enter operator')\n",
    "if   oper=='*':\n",
    "    print(num1*num2)\n",
    "elif oper=='/':\n",
    "    print(num1/num2)\n",
    "elif oper=='-':\n",
    "    print(num1-num2)\n",
    "elif oper=='+':\n",
    "    print(num1+num2)\n"
   ]
  },
  {
   "cell_type": "markdown",
   "metadata": {},
   "source": [
    "### Q16. Write a program that takes three numbers as input and prints the minimum of those numbers."
   ]
  },
  {
   "cell_type": "code",
   "execution_count": 42,
   "metadata": {},
   "outputs": [
    {
     "name": "stdout",
     "output_type": "stream",
     "text": [
      "the minimum of those number is 5\n"
     ]
    }
   ],
   "source": [
    "number1 = int(input('enter first number'))\n",
    "number2 = int(input('enter second number'))\n",
    "number3 = int(input('enter third number'))\n",
    "#first way\n",
    "print(f'the minimum of those number is {min(number1,number2,number3)}')\n"
   ]
  },
  {
   "cell_type": "code",
   "execution_count": 43,
   "metadata": {},
   "outputs": [
    {
     "name": "stdout",
     "output_type": "stream",
     "text": [
      "the minimum of those number is 5\n"
     ]
    }
   ],
   "source": [
    "#second way\n",
    "listNumber=[number1,number2,number3]\n",
    "print(f'the minimum of those number is {min(listNumber)}')"
   ]
  },
  {
   "cell_type": "code",
   "execution_count": 44,
   "metadata": {},
   "outputs": [
    {
     "name": "stdout",
     "output_type": "stream",
     "text": [
      "the minimum of those number3 is 5\n"
     ]
    }
   ],
   "source": [
    "#third way\n",
    "if number1<=number2 and number1 <=number3:\n",
    "    print(f'the minimum of those number1 is {number1}')\n",
    "elif number2<=number1 and number2<=number3:\n",
    "    print(f'the minimum of those number2 is {number2}')\n",
    "else:\n",
    "    print(f'the minimum of those number3 is {number3}')\n"
   ]
  },
  {
   "cell_type": "code",
   "execution_count": 45,
   "metadata": {},
   "outputs": [
    {
     "name": "stdout",
     "output_type": "stream",
     "text": [
      "the minimum of those number is 5\n"
     ]
    }
   ],
   "source": [
    "#fourth way\n",
    "minimum=number1 if (number1<=number2 and number1<=number3)else number2 if (number2<=number3)else number3\n",
    "print(f'the minimum of those number is {minimum}')"
   ]
  },
  {
   "cell_type": "markdown",
   "metadata": {},
   "source": [
    "### Q17. Write a program that takes a string as input and prints its length."
   ]
  },
  {
   "cell_type": "code",
   "execution_count": 48,
   "metadata": {},
   "outputs": [
    {
     "name": "stdout",
     "output_type": "stream",
     "text": [
      "The length of the string is: 6\n"
     ]
    }
   ],
   "source": [
    "str1=input('enter your string')\n",
    "#first way\n",
    "length=len(str1)\n",
    "\n",
    "print(\"The length of the string is:\", length)\n"
   ]
  },
  {
   "cell_type": "code",
   "execution_count": 49,
   "metadata": {},
   "outputs": [
    {
     "name": "stdout",
     "output_type": "stream",
     "text": [
      "The length of the string is: 6\n"
     ]
    }
   ],
   "source": [
    "#second way\n",
    "length=0\n",
    "for n in str1:\n",
    "    length+=1\n",
    "\n",
    "print(\"The length of the string is:\", length)"
   ]
  },
  {
   "cell_type": "markdown",
   "metadata": {},
   "source": [
    "### Q18. Create a list of numbers and write a program to find the sum of all elements in the list."
   ]
  },
  {
   "cell_type": "code",
   "execution_count": 51,
   "metadata": {},
   "outputs": [
    {
     "name": "stdout",
     "output_type": "stream",
     "text": [
      "6\n"
     ]
    }
   ],
   "source": [
    "listOfNumber =[int(input('enter first number')),int(input('enter second number')),int(input('enter third number'))]\n",
    " \n",
    "totel = sum(listOfNumber)\n",
    "\n",
    "print(totel) "
   ]
  },
  {
   "cell_type": "code",
   "execution_count": 52,
   "metadata": {},
   "outputs": [
    {
     "name": "stdout",
     "output_type": "stream",
     "text": [
      "6\n"
     ]
    }
   ],
   "source": [
    "totel=0\n",
    "for n in listOfNumber:\n",
    "    totel+=n\n",
    "print(totel)"
   ]
  },
  {
   "cell_type": "markdown",
   "metadata": {},
   "source": [
    "### Q19. Write a program that takes a string as input and prints it in both uppercase and lowercase."
   ]
  },
  {
   "cell_type": "code",
   "execution_count": 53,
   "metadata": {},
   "outputs": [
    {
     "name": "stdout",
     "output_type": "stream",
     "text": [
      "Lowercase: mohmed\n",
      "Uppercase: MOHMED\n",
      "Title: Mohmed\n"
     ]
    }
   ],
   "source": [
    "str1=input('Enter Your String')\n",
    "\n",
    "print(\"Lowercase:\", str1.lower())\n",
    "\n",
    "print(\"Uppercase:\", str1.upper())\n",
    "\n",
    "print(\"Title:\", str1.title())\n"
   ]
  }
 ],
 "metadata": {
  "kernelspec": {
   "display_name": "Python 3",
   "language": "python",
   "name": "python3"
  },
  "language_info": {
   "codemirror_mode": {
    "name": "ipython",
    "version": 3
   },
   "file_extension": ".py",
   "mimetype": "text/x-python",
   "name": "python",
   "nbconvert_exporter": "python",
   "pygments_lexer": "ipython3",
   "version": "3.11.5"
  }
 },
 "nbformat": 4,
 "nbformat_minor": 2
}
